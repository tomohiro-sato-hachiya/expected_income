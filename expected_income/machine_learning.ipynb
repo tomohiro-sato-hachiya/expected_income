{
 "cells": [
  {
   "cell_type": "code",
   "execution_count": 1,
   "metadata": {},
   "outputs": [
    {
     "data": {
      "text/plain": [
       "{'size': 5, 'year': 7, 'income': 5788}"
      ]
     },
     "execution_count": 1,
     "metadata": {},
     "output_type": "execute_result"
    }
   ],
   "source": [
    "# エクセル表からリストを作成する\n",
    "import openpyxl\n",
    "\n",
    "workbook = openpyxl.load_workbook('14.xlsx')\n",
    "number_sheet = workbook['その１']\n",
    "mean_income_sheet = workbook['その３']\n",
    "total_list = list()\n",
    "size = 0\n",
    "for row in range(7, 24):\n",
    "    if number_sheet.cell(row=row, column=4).value == '計':\n",
    "        size += 1\n",
    "        continue\n",
    "    for column in range(5, 13):\n",
    "        number = number_sheet.cell(row=row, column=column).value\n",
    "        mean_income = mean_income_sheet.cell(row=row, column=column).value\n",
    "        person = {\n",
    "            'size': size,\n",
    "            'year': column - 5,\n",
    "            'income': mean_income,\n",
    "        }\n",
    "        for i in range(number):\n",
    "            total_list.append(person)\n",
    "# total_list[0]\n",
    "total_list[-1]"
   ]
  },
  {
   "cell_type": "code",
   "execution_count": 2,
   "metadata": {},
   "outputs": [],
   "source": [
    "# リストからCSVを出力する\n",
    "import csv\n",
    "\n",
    "with open('processed_data.csv', 'w') as f:\n",
    "    writer = csv.DictWriter(f, total_list[0].keys())\n",
    "    writer.writeheader()\n",
    "    for data in total_list:\n",
    "        writer.writerow(data)"
   ]
  },
  {
   "cell_type": "code",
   "execution_count": 3,
   "metadata": {},
   "outputs": [
    {
     "data": {
      "text/html": [
       "<div>\n",
       "<style scoped>\n",
       "    .dataframe tbody tr th:only-of-type {\n",
       "        vertical-align: middle;\n",
       "    }\n",
       "\n",
       "    .dataframe tbody tr th {\n",
       "        vertical-align: top;\n",
       "    }\n",
       "\n",
       "    .dataframe thead th {\n",
       "        text-align: right;\n",
       "    }\n",
       "</style>\n",
       "<table border=\"1\" class=\"dataframe\">\n",
       "  <thead>\n",
       "    <tr style=\"text-align: right;\">\n",
       "      <th></th>\n",
       "      <th>size</th>\n",
       "      <th>year</th>\n",
       "      <th>income</th>\n",
       "    </tr>\n",
       "  </thead>\n",
       "  <tbody>\n",
       "    <tr>\n",
       "      <th>0</th>\n",
       "      <td>0</td>\n",
       "      <td>0</td>\n",
       "      <td>2658</td>\n",
       "    </tr>\n",
       "    <tr>\n",
       "      <th>1</th>\n",
       "      <td>0</td>\n",
       "      <td>0</td>\n",
       "      <td>2658</td>\n",
       "    </tr>\n",
       "    <tr>\n",
       "      <th>2</th>\n",
       "      <td>0</td>\n",
       "      <td>0</td>\n",
       "      <td>2658</td>\n",
       "    </tr>\n",
       "    <tr>\n",
       "      <th>3</th>\n",
       "      <td>0</td>\n",
       "      <td>0</td>\n",
       "      <td>2658</td>\n",
       "    </tr>\n",
       "    <tr>\n",
       "      <th>4</th>\n",
       "      <td>0</td>\n",
       "      <td>0</td>\n",
       "      <td>2658</td>\n",
       "    </tr>\n",
       "    <tr>\n",
       "      <th>...</th>\n",
       "      <td>...</td>\n",
       "      <td>...</td>\n",
       "      <td>...</td>\n",
       "    </tr>\n",
       "    <tr>\n",
       "      <th>37348865</th>\n",
       "      <td>5</td>\n",
       "      <td>7</td>\n",
       "      <td>5788</td>\n",
       "    </tr>\n",
       "    <tr>\n",
       "      <th>37348866</th>\n",
       "      <td>5</td>\n",
       "      <td>7</td>\n",
       "      <td>5788</td>\n",
       "    </tr>\n",
       "    <tr>\n",
       "      <th>37348867</th>\n",
       "      <td>5</td>\n",
       "      <td>7</td>\n",
       "      <td>5788</td>\n",
       "    </tr>\n",
       "    <tr>\n",
       "      <th>37348868</th>\n",
       "      <td>5</td>\n",
       "      <td>7</td>\n",
       "      <td>5788</td>\n",
       "    </tr>\n",
       "    <tr>\n",
       "      <th>37348869</th>\n",
       "      <td>5</td>\n",
       "      <td>7</td>\n",
       "      <td>5788</td>\n",
       "    </tr>\n",
       "  </tbody>\n",
       "</table>\n",
       "<p>37348870 rows × 3 columns</p>\n",
       "</div>"
      ],
      "text/plain": [
       "          size  year  income\n",
       "0            0     0    2658\n",
       "1            0     0    2658\n",
       "2            0     0    2658\n",
       "3            0     0    2658\n",
       "4            0     0    2658\n",
       "...        ...   ...     ...\n",
       "37348865     5     7    5788\n",
       "37348866     5     7    5788\n",
       "37348867     5     7    5788\n",
       "37348868     5     7    5788\n",
       "37348869     5     7    5788\n",
       "\n",
       "[37348870 rows x 3 columns]"
      ]
     },
     "execution_count": 3,
     "metadata": {},
     "output_type": "execute_result"
    }
   ],
   "source": [
    "import pandas\n",
    "\n",
    "df = pandas.read_csv(\n",
    "    'processed_data.csv',\n",
    ")\n",
    "df"
   ]
  },
  {
   "cell_type": "code",
   "execution_count": 4,
   "metadata": {},
   "outputs": [],
   "source": [
    "# df.plot.scatter('size', 'income')"
   ]
  },
  {
   "cell_type": "code",
   "execution_count": 5,
   "metadata": {},
   "outputs": [],
   "source": [
    "# df.plot.scatter('year', 'income')"
   ]
  },
  {
   "cell_type": "code",
   "execution_count": 6,
   "metadata": {},
   "outputs": [
    {
     "data": {
      "text/plain": [
       "LinearRegression(copy_X=True, fit_intercept=True, n_jobs=None, normalize=False)"
      ]
     },
     "execution_count": 6,
     "metadata": {},
     "output_type": "execute_result"
    }
   ],
   "source": [
    "# 学習を行う\n",
    "from sklearn.linear_model import LinearRegression\n",
    "from sklearn.model_selection import train_test_split\n",
    "from sklearn.metrics import r2_score\n",
    "\n",
    "reg = LinearRegression()\n",
    "\n",
    "y = df['income']\n",
    "X_train, X_test, y_train, y_test = train_test_split(df, y, random_state=0)\n",
    "\n",
    "X2_train = X_train[['size', 'year']]\n",
    "\n",
    "reg.fit(X2_train, y_train)"
   ]
  },
  {
   "cell_type": "code",
   "execution_count": 7,
   "metadata": {},
   "outputs": [
    {
     "data": {
      "text/plain": [
       "0.5983867971844185"
      ]
     },
     "execution_count": 7,
     "metadata": {},
     "output_type": "execute_result"
    }
   ],
   "source": [
    "# テストを行う\n",
    "X2_test = X_test[['size', 'year']]\n",
    "y_pred = reg.predict(X2_test)\n",
    "r2_score(y_test, y_pred)"
   ]
  },
  {
   "cell_type": "code",
   "execution_count": 8,
   "metadata": {},
   "outputs": [],
   "source": [
    "# pickle化を行う\n",
    "import pickle\n",
    "\n",
    "with open('trainend-model.pickle', 'wb') as f:\n",
    "    pickle.dump(reg, f)"
   ]
  }
 ],
 "metadata": {
  "kernelspec": {
   "display_name": "Python 3",
   "language": "python",
   "name": "python3"
  },
  "language_info": {
   "codemirror_mode": {
    "name": "ipython",
    "version": 3
   },
   "file_extension": ".py",
   "mimetype": "text/x-python",
   "name": "python",
   "nbconvert_exporter": "python",
   "pygments_lexer": "ipython3",
   "version": "3.8.2"
  }
 },
 "nbformat": 4,
 "nbformat_minor": 4
}
